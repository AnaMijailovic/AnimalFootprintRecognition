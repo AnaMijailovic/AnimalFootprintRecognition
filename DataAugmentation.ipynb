{
  "nbformat": 4,
  "nbformat_minor": 0,
  "metadata": {
    "colab": {
      "name": "Untitled0.ipynb",
      "provenance": [],
      "collapsed_sections": []
    },
    "kernelspec": {
      "name": "python3",
      "display_name": "Python 3"
    }
  },
  "cells": [
    {
      "cell_type": "markdown",
      "metadata": {
        "id": "VpboLFBgjRY5",
        "colab_type": "text"
      },
      "source": [
        "# Data Augmentation"
      ]
    },
    {
      "cell_type": "markdown",
      "metadata": {
        "id": "jLe9oSC7ttss",
        "colab_type": "text"
      },
      "source": [
        "**Four new images are made from the original image**\n",
        "  1. Horizontal flip \n",
        "  2. Vertical flip \n",
        "  3. Rotation by 90 degrees\n",
        "  4. Rotation by 270 degrees"
      ]
    },
    {
      "cell_type": "code",
      "metadata": {
        "id": "gSqHoqtMjrd4",
        "colab_type": "code",
        "colab": {}
      },
      "source": [
        "import cv2\n",
        "import os\n",
        "from os import listdir\n",
        "\n",
        "\n",
        "def rotate_image(original_image, angle):\n",
        "    \"\"\"\n",
        "     Rotates an image and expands image to avoid cropping\n",
        "\n",
        "    :param original_image: image to be rotated\n",
        "    :param angle: angle in degrees\n",
        "    :return: rotated image\n",
        "    \"\"\"\n",
        "\n",
        "    image_height, image_width = original_image.shape[:2]\n",
        "    image_center = (image_width/2, image_height/2)  # get the center of the image\n",
        "\n",
        "    rotation_matrix = cv2.getRotationMatrix2D(image_center, angle, 1.)\n",
        "\n",
        "    # calculate cosine and sine\n",
        "    absolute_cosine = abs(rotation_matrix[0, 0])\n",
        "    absolute_sine = abs(rotation_matrix[0, 1])\n",
        "\n",
        "    # find the new width bound and new height bound\n",
        "    new_width_bound = int(image_height * absolute_sine + image_width * absolute_cosine)\n",
        "    new_height_bound = int(image_height * absolute_cosine + image_width * absolute_sine)\n",
        "\n",
        "    rotation_matrix[0, 2] += new_width_bound/2 - image_center[0]\n",
        "    rotation_matrix[1, 2] += new_height_bound/2 - image_center[1]\n",
        "\n",
        "    # rotate original image\n",
        "    rotated_image = cv2.warpAffine(original_image, rotation_matrix, (new_width_bound, new_height_bound))\n",
        "    return rotated_image\n",
        "\n",
        "\n",
        "def augmentation(source_path, destination_path):\n",
        "    # Load the images\n",
        "    for animal_folder in listdir(source_path):\n",
        "        for image_name in listdir(source_path + '/' + animal_folder):\n",
        "            image = cv2.imread(source_path + '/' + animal_folder + '/' + image_name)\n",
        "\n",
        "            # Save the original image\n",
        "            # print(destination_path + \"/\" + animal_folder + '/' + image_name)\n",
        "            if not os.path.exists(destination_path + \"/\" + animal_folder):\n",
        "                os.makedirs(destination_path + \"/\" + animal_folder)\n",
        "            cv2.imwrite(destination_path + \"/\" + animal_folder + '/' + image_name, image)\n",
        "\n",
        "            # Flip the image\n",
        "            img_flip_h = image[:, ::-1]  # the first coordinate remains the same, the columns are taken backwards\n",
        "            img_flip_v = image[::-1, :]  # the second coordinate remains the same, the rows are taken backwards\n",
        "\n",
        "            name = image_name.split(\".\")[0]\n",
        "            cv2.imwrite(destination_path + \"/\" + animal_folder + '/' + name + \"_flip_h.jpg\", img_flip_h)\n",
        "            cv2.imwrite(destination_path + \"/\" + animal_folder + '/' + name + \"_flip_v.jpg\", img_flip_v)\n",
        "\n",
        "            # Rotate the image by 90 and 270 degrees\n",
        "            image_rotated_90 = rotate_image(image, 90)\n",
        "            image_rotated_270 = rotate_image(image, 270)\n",
        "            cv2.imwrite(destination_path + \"/\" + animal_folder + '/' + name + \"_rotated_90.jpg\", image_rotated_90)\n",
        "            cv2.imwrite(destination_path + \"/\" + animal_folder + '/' + name + \"_rotated_270.jpg\", image_rotated_270)"
      ],
      "execution_count": 2,
      "outputs": []
    },
    {
      "cell_type": "markdown",
      "metadata": {
        "id": "qi5xCwx0suoW",
        "colab_type": "text"
      },
      "source": [
        "**Enter source and destinatin folder names and start data augmentation**"
      ]
    },
    {
      "cell_type": "code",
      "metadata": {
        "id": "cICT-JR-pNch",
        "colab_type": "code",
        "colab": {}
      },
      "source": [
        "source_path = input(\"Enter source folder path: \")\n",
        "# while not os.path.isfile(source_path):\n",
        "#        source_path = input(\"Enter source folder path: \")\n",
        "\n",
        "destination_path = input(\"Enter destination folder path: \")\n",
        "# while not os.path.isfile(source_path):\n",
        "#        source_path = input(\"Enter destination folder path: \")    \n",
        "\n",
        "print(\"\\n Starting data augmentation ...\")\n",
        "augmentation(source_path, destination_path)   \n",
        "print(\"\\n Data augmentation finished ...\")"
      ],
      "execution_count": null,
      "outputs": []
    },
    {
      "cell_type": "markdown",
      "metadata": {
        "id": "NYa4PwkntBDl",
        "colab_type": "text"
      },
      "source": [
        "**Unzip file**"
      ]
    },
    {
      "cell_type": "code",
      "metadata": {
        "id": "0-ZV8TwJYKOc",
        "colab_type": "code",
        "colab": {}
      },
      "source": [
        "import zipfile\n",
        "with zipfile.ZipFile('/content/example.zip','r') as zip_ref:\n",
        "     zip_ref.extractall(\"/\")"
      ],
      "execution_count": 7,
      "outputs": []
    }
  ]
}